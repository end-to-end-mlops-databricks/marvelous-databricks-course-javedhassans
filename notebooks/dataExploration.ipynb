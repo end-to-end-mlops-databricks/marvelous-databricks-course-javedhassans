{
 "cells": [
  {
   "cell_type": "code",
   "execution_count": 1,
   "metadata": {},
   "outputs": [],
   "source": [
    "import pandas as pd\n",
    "import numpy as np\n",
    "\n",
    "pd.set_option('display.max_columns', 100)\n",
    "pd.set_option('display.max_rows', 100)"
   ]
  },
  {
   "cell_type": "code",
   "execution_count": 2,
   "metadata": {},
   "outputs": [],
   "source": [
    "df = pd.read_csv('../data/childHealth.csv')"
   ]
  },
  {
   "cell_type": "code",
   "execution_count": 3,
   "metadata": {},
   "outputs": [
    {
     "data": {
      "text/plain": [
       "Index(['id', 'Basic_Demos-Enroll_Season', 'Basic_Demos-Age', 'Basic_Demos-Sex',\n",
       "       'CGAS-Season', 'CGAS-CGAS_Score', 'Physical-Season', 'Physical-BMI',\n",
       "       'Physical-Height', 'Physical-Weight', 'Physical-Waist_Circumference',\n",
       "       'Physical-Diastolic_BP', 'Physical-HeartRate', 'Physical-Systolic_BP',\n",
       "       'Fitness_Endurance-Season', 'Fitness_Endurance-Max_Stage',\n",
       "       'Fitness_Endurance-Time_Mins', 'Fitness_Endurance-Time_Sec',\n",
       "       'FGC-Season', 'FGC-FGC_CU', 'FGC-FGC_CU_Zone', 'FGC-FGC_GSND',\n",
       "       'FGC-FGC_GSND_Zone', 'FGC-FGC_GSD', 'FGC-FGC_GSD_Zone', 'FGC-FGC_PU',\n",
       "       'FGC-FGC_PU_Zone', 'FGC-FGC_SRL', 'FGC-FGC_SRL_Zone', 'FGC-FGC_SRR',\n",
       "       'FGC-FGC_SRR_Zone', 'FGC-FGC_TL', 'FGC-FGC_TL_Zone', 'BIA-Season',\n",
       "       'BIA-BIA_Activity_Level_num', 'BIA-BIA_BMC', 'BIA-BIA_BMI',\n",
       "       'BIA-BIA_BMR', 'BIA-BIA_DEE', 'BIA-BIA_ECW', 'BIA-BIA_FFM',\n",
       "       'BIA-BIA_FFMI', 'BIA-BIA_FMI', 'BIA-BIA_Fat', 'BIA-BIA_Frame_num',\n",
       "       'BIA-BIA_ICW', 'BIA-BIA_LDM', 'BIA-BIA_LST', 'BIA-BIA_SMM',\n",
       "       'BIA-BIA_TBW', 'PAQ_A-Season', 'PAQ_A-PAQ_A_Total', 'PAQ_C-Season',\n",
       "       'PAQ_C-PAQ_C_Total', 'PCIAT-Season', 'PCIAT-PCIAT_01', 'PCIAT-PCIAT_02',\n",
       "       'PCIAT-PCIAT_03', 'PCIAT-PCIAT_04', 'PCIAT-PCIAT_05', 'PCIAT-PCIAT_06',\n",
       "       'PCIAT-PCIAT_07', 'PCIAT-PCIAT_08', 'PCIAT-PCIAT_09', 'PCIAT-PCIAT_10',\n",
       "       'PCIAT-PCIAT_11', 'PCIAT-PCIAT_12', 'PCIAT-PCIAT_13', 'PCIAT-PCIAT_14',\n",
       "       'PCIAT-PCIAT_15', 'PCIAT-PCIAT_16', 'PCIAT-PCIAT_17', 'PCIAT-PCIAT_18',\n",
       "       'PCIAT-PCIAT_19', 'PCIAT-PCIAT_20', 'PCIAT-PCIAT_Total', 'SDS-Season',\n",
       "       'SDS-SDS_Total_Raw', 'SDS-SDS_Total_T', 'PreInt_EduHx-Season',\n",
       "       'PreInt_EduHx-computerinternet_hoursday', 'sii'],\n",
       "      dtype='object')"
      ]
     },
     "execution_count": 3,
     "metadata": {},
     "output_type": "execute_result"
    }
   ],
   "source": [
    "df.columns"
   ]
  },
  {
   "cell_type": "code",
   "execution_count": 5,
   "metadata": {},
   "outputs": [
    {
     "data": {
      "text/plain": [
       "sii\n",
       "0.0    1594\n",
       "NaN    1224\n",
       "1.0     730\n",
       "2.0     378\n",
       "3.0      34\n",
       "Name: count, dtype: int64"
      ]
     },
     "execution_count": 5,
     "metadata": {},
     "output_type": "execute_result"
    }
   ],
   "source": [
    "df['sii'].value_counts(dropna=False)"
   ]
  },
  {
   "cell_type": "code",
   "execution_count": 11,
   "metadata": {},
   "outputs": [],
   "source": [
    "# get numerical and categorical columns list\n",
    "num_cols = df.select_dtypes(exclude=['object']).columns.tolist()\n",
    "cat_cols = df.select_dtypes(include=['object']).columns.tolist()\n"
   ]
  },
  {
   "cell_type": "code",
   "execution_count": 12,
   "metadata": {},
   "outputs": [
    {
     "data": {
      "text/plain": [
       "['Basic_Demos-Age',\n",
       " 'Basic_Demos-Sex',\n",
       " 'CGAS-CGAS_Score',\n",
       " 'Physical-BMI',\n",
       " 'Physical-Height',\n",
       " 'Physical-Weight',\n",
       " 'Physical-Waist_Circumference',\n",
       " 'Physical-Diastolic_BP',\n",
       " 'Physical-HeartRate',\n",
       " 'Physical-Systolic_BP',\n",
       " 'Fitness_Endurance-Max_Stage',\n",
       " 'Fitness_Endurance-Time_Mins',\n",
       " 'Fitness_Endurance-Time_Sec',\n",
       " 'FGC-FGC_CU',\n",
       " 'FGC-FGC_CU_Zone',\n",
       " 'FGC-FGC_GSND',\n",
       " 'FGC-FGC_GSND_Zone',\n",
       " 'FGC-FGC_GSD',\n",
       " 'FGC-FGC_GSD_Zone',\n",
       " 'FGC-FGC_PU',\n",
       " 'FGC-FGC_PU_Zone',\n",
       " 'FGC-FGC_SRL',\n",
       " 'FGC-FGC_SRL_Zone',\n",
       " 'FGC-FGC_SRR',\n",
       " 'FGC-FGC_SRR_Zone',\n",
       " 'FGC-FGC_TL',\n",
       " 'FGC-FGC_TL_Zone',\n",
       " 'BIA-BIA_Activity_Level_num',\n",
       " 'BIA-BIA_BMC',\n",
       " 'BIA-BIA_BMI',\n",
       " 'BIA-BIA_BMR',\n",
       " 'BIA-BIA_DEE',\n",
       " 'BIA-BIA_ECW',\n",
       " 'BIA-BIA_FFM',\n",
       " 'BIA-BIA_FFMI',\n",
       " 'BIA-BIA_FMI',\n",
       " 'BIA-BIA_Fat',\n",
       " 'BIA-BIA_Frame_num',\n",
       " 'BIA-BIA_ICW',\n",
       " 'BIA-BIA_LDM',\n",
       " 'BIA-BIA_LST',\n",
       " 'BIA-BIA_SMM',\n",
       " 'BIA-BIA_TBW',\n",
       " 'PAQ_A-PAQ_A_Total',\n",
       " 'PAQ_C-PAQ_C_Total',\n",
       " 'PCIAT-PCIAT_01',\n",
       " 'PCIAT-PCIAT_02',\n",
       " 'PCIAT-PCIAT_03',\n",
       " 'PCIAT-PCIAT_04',\n",
       " 'PCIAT-PCIAT_05',\n",
       " 'PCIAT-PCIAT_06',\n",
       " 'PCIAT-PCIAT_07',\n",
       " 'PCIAT-PCIAT_08',\n",
       " 'PCIAT-PCIAT_09',\n",
       " 'PCIAT-PCIAT_10',\n",
       " 'PCIAT-PCIAT_11',\n",
       " 'PCIAT-PCIAT_12',\n",
       " 'PCIAT-PCIAT_13',\n",
       " 'PCIAT-PCIAT_14',\n",
       " 'PCIAT-PCIAT_15',\n",
       " 'PCIAT-PCIAT_16',\n",
       " 'PCIAT-PCIAT_17',\n",
       " 'PCIAT-PCIAT_18',\n",
       " 'PCIAT-PCIAT_19',\n",
       " 'PCIAT-PCIAT_20',\n",
       " 'PCIAT-PCIAT_Total',\n",
       " 'SDS-SDS_Total_Raw',\n",
       " 'SDS-SDS_Total_T',\n",
       " 'PreInt_EduHx-computerinternet_hoursday',\n",
       " 'sii']"
      ]
     },
     "execution_count": 12,
     "metadata": {},
     "output_type": "execute_result"
    }
   ],
   "source": [
    "num_cols"
   ]
  },
  {
   "cell_type": "code",
   "execution_count": 13,
   "metadata": {},
   "outputs": [
    {
     "data": {
      "text/plain": [
       "['id',\n",
       " 'Basic_Demos-Enroll_Season',\n",
       " 'CGAS-Season',\n",
       " 'Physical-Season',\n",
       " 'Fitness_Endurance-Season',\n",
       " 'FGC-Season',\n",
       " 'BIA-Season',\n",
       " 'PAQ_A-Season',\n",
       " 'PAQ_C-Season',\n",
       " 'PCIAT-Season',\n",
       " 'SDS-Season',\n",
       " 'PreInt_EduHx-Season']"
      ]
     },
     "execution_count": 13,
     "metadata": {},
     "output_type": "execute_result"
    }
   ],
   "source": [
    "cat_cols"
   ]
  },
  {
   "cell_type": "code",
   "execution_count": 8,
   "metadata": {},
   "outputs": [
    {
     "data": {
      "text/plain": [
       "id                                         0.000000\n",
       "Basic_Demos-Enroll_Season                  0.000000\n",
       "Basic_Demos-Age                            0.000000\n",
       "Basic_Demos-Sex                            0.000000\n",
       "CGAS-Season                               35.479798\n",
       "CGAS-CGAS_Score                           38.863636\n",
       "Physical-Season                           16.414141\n",
       "Physical-BMI                              23.686869\n",
       "Physical-Height                           23.560606\n",
       "Physical-Weight                           22.323232\n",
       "Physical-Waist_Circumference              77.323232\n",
       "Physical-Diastolic_BP                     25.404040\n",
       "Physical-HeartRate                        25.075758\n",
       "Physical-Systolic_BP                      25.404040\n",
       "Fitness_Endurance-Season                  66.969697\n",
       "Fitness_Endurance-Max_Stage               81.237374\n",
       "Fitness_Endurance-Time_Mins               81.313131\n",
       "Fitness_Endurance-Time_Sec                81.313131\n",
       "FGC-Season                                15.505051\n",
       "FGC-FGC_CU                                41.363636\n",
       "FGC-FGC_CU_Zone                           42.373737\n",
       "FGC-FGC_GSND                              72.878788\n",
       "FGC-FGC_GSND_Zone                         73.181818\n",
       "FGC-FGC_GSD                               72.878788\n",
       "FGC-FGC_GSD_Zone                          73.156566\n",
       "FGC-FGC_PU                                41.666667\n",
       "FGC-FGC_PU_Zone                           42.651515\n",
       "FGC-FGC_SRL                               41.792929\n",
       "FGC-FGC_SRL_Zone                          42.752525\n",
       "FGC-FGC_SRR                               41.742424\n",
       "FGC-FGC_SRR_Zone                          42.702020\n",
       "FGC-FGC_TL                                41.313131\n",
       "FGC-FGC_TL_Zone                           42.297980\n",
       "BIA-Season                                45.833333\n",
       "BIA-BIA_Activity_Level_num                49.722222\n",
       "BIA-BIA_BMC                               49.722222\n",
       "BIA-BIA_BMI                               49.722222\n",
       "BIA-BIA_BMR                               49.722222\n",
       "BIA-BIA_DEE                               49.722222\n",
       "BIA-BIA_ECW                               49.722222\n",
       "BIA-BIA_FFM                               49.722222\n",
       "BIA-BIA_FFMI                              49.722222\n",
       "BIA-BIA_FMI                               49.722222\n",
       "BIA-BIA_Fat                               49.722222\n",
       "BIA-BIA_Frame_num                         49.722222\n",
       "BIA-BIA_ICW                               49.722222\n",
       "BIA-BIA_LDM                               49.722222\n",
       "BIA-BIA_LST                               49.722222\n",
       "BIA-BIA_SMM                               49.722222\n",
       "BIA-BIA_TBW                               49.722222\n",
       "PAQ_A-Season                              88.005051\n",
       "PAQ_A-PAQ_A_Total                         88.005051\n",
       "PAQ_C-Season                              56.540404\n",
       "PAQ_C-PAQ_C_Total                         56.540404\n",
       "PCIAT-Season                              30.909091\n",
       "PCIAT-PCIAT_01                            30.984848\n",
       "PCIAT-PCIAT_02                            30.959596\n",
       "PCIAT-PCIAT_03                            31.035354\n",
       "PCIAT-PCIAT_04                            31.035354\n",
       "PCIAT-PCIAT_05                            31.085859\n",
       "PCIAT-PCIAT_06                            31.010101\n",
       "PCIAT-PCIAT_07                            31.085859\n",
       "PCIAT-PCIAT_08                            31.060606\n",
       "PCIAT-PCIAT_09                            31.060606\n",
       "PCIAT-PCIAT_10                            30.984848\n",
       "PCIAT-PCIAT_11                            30.959596\n",
       "PCIAT-PCIAT_12                            31.035354\n",
       "PCIAT-PCIAT_13                            31.085859\n",
       "PCIAT-PCIAT_14                            31.010101\n",
       "PCIAT-PCIAT_15                            31.060606\n",
       "PCIAT-PCIAT_16                            31.111111\n",
       "PCIAT-PCIAT_17                            31.186869\n",
       "PCIAT-PCIAT_18                            31.111111\n",
       "PCIAT-PCIAT_19                            31.060606\n",
       "PCIAT-PCIAT_20                            30.984848\n",
       "PCIAT-PCIAT_Total                         30.909091\n",
       "SDS-Season                                33.888889\n",
       "SDS-SDS_Total_Raw                         34.116162\n",
       "SDS-SDS_Total_T                           34.191919\n",
       "PreInt_EduHx-Season                       10.606061\n",
       "PreInt_EduHx-computerinternet_hoursday    16.641414\n",
       "sii                                       30.909091\n",
       "dtype: float64"
      ]
     },
     "execution_count": 8,
     "metadata": {},
     "output_type": "execute_result"
    }
   ],
   "source": [
    "df.isna().sum()/len(df)*100"
   ]
  },
  {
   "cell_type": "code",
   "execution_count": 9,
   "metadata": {},
   "outputs": [
    {
     "name": "stdout",
     "output_type": "stream",
     "text": [
      "<class 'pandas.core.frame.DataFrame'>\n",
      "RangeIndex: 3960 entries, 0 to 3959\n",
      "Data columns (total 82 columns):\n",
      " #   Column                                  Non-Null Count  Dtype  \n",
      "---  ------                                  --------------  -----  \n",
      " 0   id                                      3960 non-null   object \n",
      " 1   Basic_Demos-Enroll_Season               3960 non-null   object \n",
      " 2   Basic_Demos-Age                         3960 non-null   int64  \n",
      " 3   Basic_Demos-Sex                         3960 non-null   int64  \n",
      " 4   CGAS-Season                             2555 non-null   object \n",
      " 5   CGAS-CGAS_Score                         2421 non-null   float64\n",
      " 6   Physical-Season                         3310 non-null   object \n",
      " 7   Physical-BMI                            3022 non-null   float64\n",
      " 8   Physical-Height                         3027 non-null   float64\n",
      " 9   Physical-Weight                         3076 non-null   float64\n",
      " 10  Physical-Waist_Circumference            898 non-null    float64\n",
      " 11  Physical-Diastolic_BP                   2954 non-null   float64\n",
      " 12  Physical-HeartRate                      2967 non-null   float64\n",
      " 13  Physical-Systolic_BP                    2954 non-null   float64\n",
      " 14  Fitness_Endurance-Season                1308 non-null   object \n",
      " 15  Fitness_Endurance-Max_Stage             743 non-null    float64\n",
      " 16  Fitness_Endurance-Time_Mins             740 non-null    float64\n",
      " 17  Fitness_Endurance-Time_Sec              740 non-null    float64\n",
      " 18  FGC-Season                              3346 non-null   object \n",
      " 19  FGC-FGC_CU                              2322 non-null   float64\n",
      " 20  FGC-FGC_CU_Zone                         2282 non-null   float64\n",
      " 21  FGC-FGC_GSND                            1074 non-null   float64\n",
      " 22  FGC-FGC_GSND_Zone                       1062 non-null   float64\n",
      " 23  FGC-FGC_GSD                             1074 non-null   float64\n",
      " 24  FGC-FGC_GSD_Zone                        1063 non-null   float64\n",
      " 25  FGC-FGC_PU                              2310 non-null   float64\n",
      " 26  FGC-FGC_PU_Zone                         2271 non-null   float64\n",
      " 27  FGC-FGC_SRL                             2305 non-null   float64\n",
      " 28  FGC-FGC_SRL_Zone                        2267 non-null   float64\n",
      " 29  FGC-FGC_SRR                             2307 non-null   float64\n",
      " 30  FGC-FGC_SRR_Zone                        2269 non-null   float64\n",
      " 31  FGC-FGC_TL                              2324 non-null   float64\n",
      " 32  FGC-FGC_TL_Zone                         2285 non-null   float64\n",
      " 33  BIA-Season                              2145 non-null   object \n",
      " 34  BIA-BIA_Activity_Level_num              1991 non-null   float64\n",
      " 35  BIA-BIA_BMC                             1991 non-null   float64\n",
      " 36  BIA-BIA_BMI                             1991 non-null   float64\n",
      " 37  BIA-BIA_BMR                             1991 non-null   float64\n",
      " 38  BIA-BIA_DEE                             1991 non-null   float64\n",
      " 39  BIA-BIA_ECW                             1991 non-null   float64\n",
      " 40  BIA-BIA_FFM                             1991 non-null   float64\n",
      " 41  BIA-BIA_FFMI                            1991 non-null   float64\n",
      " 42  BIA-BIA_FMI                             1991 non-null   float64\n",
      " 43  BIA-BIA_Fat                             1991 non-null   float64\n",
      " 44  BIA-BIA_Frame_num                       1991 non-null   float64\n",
      " 45  BIA-BIA_ICW                             1991 non-null   float64\n",
      " 46  BIA-BIA_LDM                             1991 non-null   float64\n",
      " 47  BIA-BIA_LST                             1991 non-null   float64\n",
      " 48  BIA-BIA_SMM                             1991 non-null   float64\n",
      " 49  BIA-BIA_TBW                             1991 non-null   float64\n",
      " 50  PAQ_A-Season                            475 non-null    object \n",
      " 51  PAQ_A-PAQ_A_Total                       475 non-null    float64\n",
      " 52  PAQ_C-Season                            1721 non-null   object \n",
      " 53  PAQ_C-PAQ_C_Total                       1721 non-null   float64\n",
      " 54  PCIAT-Season                            2736 non-null   object \n",
      " 55  PCIAT-PCIAT_01                          2733 non-null   float64\n",
      " 56  PCIAT-PCIAT_02                          2734 non-null   float64\n",
      " 57  PCIAT-PCIAT_03                          2731 non-null   float64\n",
      " 58  PCIAT-PCIAT_04                          2731 non-null   float64\n",
      " 59  PCIAT-PCIAT_05                          2729 non-null   float64\n",
      " 60  PCIAT-PCIAT_06                          2732 non-null   float64\n",
      " 61  PCIAT-PCIAT_07                          2729 non-null   float64\n",
      " 62  PCIAT-PCIAT_08                          2730 non-null   float64\n",
      " 63  PCIAT-PCIAT_09                          2730 non-null   float64\n",
      " 64  PCIAT-PCIAT_10                          2733 non-null   float64\n",
      " 65  PCIAT-PCIAT_11                          2734 non-null   float64\n",
      " 66  PCIAT-PCIAT_12                          2731 non-null   float64\n",
      " 67  PCIAT-PCIAT_13                          2729 non-null   float64\n",
      " 68  PCIAT-PCIAT_14                          2732 non-null   float64\n",
      " 69  PCIAT-PCIAT_15                          2730 non-null   float64\n",
      " 70  PCIAT-PCIAT_16                          2728 non-null   float64\n",
      " 71  PCIAT-PCIAT_17                          2725 non-null   float64\n",
      " 72  PCIAT-PCIAT_18                          2728 non-null   float64\n",
      " 73  PCIAT-PCIAT_19                          2730 non-null   float64\n",
      " 74  PCIAT-PCIAT_20                          2733 non-null   float64\n",
      " 75  PCIAT-PCIAT_Total                       2736 non-null   float64\n",
      " 76  SDS-Season                              2618 non-null   object \n",
      " 77  SDS-SDS_Total_Raw                       2609 non-null   float64\n",
      " 78  SDS-SDS_Total_T                         2606 non-null   float64\n",
      " 79  PreInt_EduHx-Season                     3540 non-null   object \n",
      " 80  PreInt_EduHx-computerinternet_hoursday  3301 non-null   float64\n",
      " 81  sii                                     2736 non-null   float64\n",
      "dtypes: float64(68), int64(2), object(12)\n",
      "memory usage: 2.5+ MB\n"
     ]
    }
   ],
   "source": [
    "df.info()"
   ]
  },
  {
   "cell_type": "code",
   "execution_count": null,
   "metadata": {},
   "outputs": [],
   "source": []
  }
 ],
 "metadata": {
  "kernelspec": {
   "display_name": "venv",
   "language": "python",
   "name": "python3"
  },
  "language_info": {
   "codemirror_mode": {
    "name": "ipython",
    "version": 3
   },
   "file_extension": ".py",
   "mimetype": "text/x-python",
   "name": "python",
   "nbconvert_exporter": "python",
   "pygments_lexer": "ipython3",
   "version": "3.11.10"
  }
 },
 "nbformat": 4,
 "nbformat_minor": 2
}
